{
 "cells": [
  {
   "cell_type": "code",
   "execution_count": 1,
   "metadata": {},
   "outputs": [],
   "source": [
    "import numpy as np\n",
    "import torch\n",
    "import torch.nn as nn\n",
    "import torch.nn.functional as F\n",
    "from model.LeNet import LeNet_Small, LeNet_Small_Quant\n",
    "from data_utils import load_cifar10\n",
    "import matplotlib.pyplot as plt\n",
    "import os\n",
    "from collections import defaultdict\n",
    "from PIL import Image\n",
    "from torchvision.utils import save_image, make_grid\n",
    "import attacks"
   ]
  },
  {
   "cell_type": "code",
   "execution_count": 2,
   "metadata": {},
   "outputs": [
    {
     "name": "stdout",
     "output_type": "stream",
     "text": [
      "Files already downloaded and verified\n",
      "Files already downloaded and verified\n"
     ]
    }
   ],
   "source": [
    "(X_train, y_train), (X_test, y_test) = load_cifar10(num_users=10, n_class=10, n_samples=500, rate_unbalance=0.4, even_split=False)"
   ]
  },
  {
   "cell_type": "code",
   "execution_count": 3,
   "metadata": {},
   "outputs": [
    {
     "name": "stdout",
     "output_type": "stream",
     "text": [
      "(415, 3, 32, 32)\n",
      "(264, 3, 32, 32)\n",
      "(358, 3, 32, 32)\n",
      "(168, 3, 32, 32)\n",
      "(63, 3, 32, 32)\n",
      "(196, 3, 32, 32)\n",
      "(287, 3, 32, 32)\n",
      "(278, 3, 32, 32)\n",
      "(281, 3, 32, 32)\n",
      "(131, 3, 32, 32)\n"
     ]
    }
   ],
   "source": [
    "for x in X_train:\n",
    "    print(x.shape)"
   ]
  },
  {
   "cell_type": "code",
   "execution_count": 4,
   "metadata": {},
   "outputs": [
    {
     "name": "stdout",
     "output_type": "stream",
     "text": [
      "(415,)\n",
      "(264,)\n",
      "(358,)\n",
      "(168,)\n",
      "(63,)\n",
      "(196,)\n",
      "(287,)\n",
      "(278,)\n",
      "(281,)\n",
      "(131,)\n"
     ]
    }
   ],
   "source": [
    "for y in y_train:\n",
    "    print(y.shape)"
   ]
  },
  {
   "cell_type": "code",
   "execution_count": null,
   "metadata": {},
   "outputs": [],
   "source": []
  }
 ],
 "metadata": {
  "kernelspec": {
   "display_name": "BlockFed",
   "language": "python",
   "name": "python3"
  },
  "language_info": {
   "codemirror_mode": {
    "name": "ipython",
    "version": 3
   },
   "file_extension": ".py",
   "mimetype": "text/x-python",
   "name": "python",
   "nbconvert_exporter": "python",
   "pygments_lexer": "ipython3",
   "version": "3.10.13"
  }
 },
 "nbformat": 4,
 "nbformat_minor": 2
}

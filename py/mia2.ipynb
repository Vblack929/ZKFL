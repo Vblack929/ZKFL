{
 "cells": [
  {
   "cell_type": "code",
   "execution_count": 1,
   "metadata": {},
   "outputs": [],
   "source": [
    "import numpy as np\n",
    "import matplotlib.pyplot as plt\n",
    "\n",
    "import torch\n",
    "from torchvision import datasets, transforms\n",
    "import torch.optim as optim\n",
    "import torch.nn as nn\n",
    "import torch.nn.functional as F\n",
    "from torch.utils.data.sampler import SubsetRandomSampler\n",
    "\n",
    "from federated_learning.attacks.MemberInference.metrics import *\n",
    "from federated_learning.attacks.MemberInference.train import *\n",
    "\n",
    "from federated_learning.model import LeNet_Small_Quant, mlleaks_mlp\n",
    "\n",
    "import federated_learning\n",
    "\n",
    "device = torch.device(\"cuda\" if torch.cuda.is_available() else \"mps\")"
   ]
  },
  {
   "cell_type": "code",
   "execution_count": 2,
   "metadata": {},
   "outputs": [],
   "source": [
    "n_epochs = 3\n",
    "batch_size = 32\n",
    "lr = 0.01\n",
    "k = 3\n",
    "\n",
    "target_net = LeNet_Small_Quant().to(device)\n",
    "shadow_net = LeNet_Small_Quant().to(device)"
   ]
  },
  {
   "cell_type": "code",
   "execution_count": 3,
   "metadata": {},
   "outputs": [
    {
     "name": "stdout",
     "output_type": "stream",
     "text": [
      "Files already downloaded and verified\n",
      "Files already downloaded and verified\n"
     ]
    }
   ],
   "source": [
    "(X_train, y_train), (X_test, y_test) = federated_learning.load_cifar10(num_users=1, n_class=10, n_samples=1000, even_split=True)\n",
    "target_X, target_y = X_train[0], y_train[0]"
   ]
  },
  {
   "cell_type": "code",
   "execution_count": 4,
   "metadata": {},
   "outputs": [
    {
     "name": "stdout",
     "output_type": "stream",
     "text": [
      "Files already downloaded and verified\n",
      "Files already downloaded and verified\n"
     ]
    }
   ],
   "source": [
    "(X_train, y_train), (X_test, y_test) = federated_learning.load_cifar10(num_users=1, n_class=10, n_samples=1000, even_split=True)\n",
    "shadow_X, shadow_y = X_train[0], y_train[0]"
   ]
  },
  {
   "cell_type": "code",
   "execution_count": 5,
   "metadata": {},
   "outputs": [],
   "source": [
    "classes = [\"airplane\", \"automobile\", \"bird\", \"cat\", \"deer\", \"dog\", \"frog\", \"horse\", \"ship\", \"truck\"]\n",
    "\n",
    "\n",
    "def imshow(img):\n",
    "    img = img / 255.0\n",
    "    img = np.moveaxis(img, 0, -1)\n",
    "    plt.imshow(img)\n",
    "    plt.show()"
   ]
  },
  {
   "cell_type": "code",
   "execution_count": 6,
   "metadata": {},
   "outputs": [],
   "source": [
    "total_size = shadow_X.shape[0]\n",
    "indices = list(range(total_size))\n",
    "split = int(total_size/2)\n",
    "\n",
    "train_idx, out_idx = indices[:split], indices[split:]\n",
    "\n",
    "train_sampler = SubsetRandomSampler(train_idx)\n",
    "out_sampler = SubsetRandomSampler(out_idx)\n",
    "\n",
    "shadow_train = shadow_X[:split], shadow_y[:split]\n",
    "shadow_out = shadow_X[split:], shadow_y[split:]\n",
    "\n",
    "target_train = target_X[:split], target_y[:split]   \n",
    "target_out = target_X[split:], target_y[split:]\n",
    "\n",
    "shadow_train_dataset = torch.utils.data.TensorDataset(torch.tensor(shadow_train[0]).float(), torch.tensor(shadow_train[1]).long())\n",
    "shadow_out_dataset = torch.utils.data.TensorDataset(torch.tensor(shadow_out[0]).float(), torch.tensor(shadow_out[1]).long())\n",
    "\n",
    "target_train_dataset = torch.utils.data.TensorDataset(torch.tensor(target_train[0]).float(), torch.tensor(target_train[1]).long())\n",
    "target_out_dataset = torch.utils.data.TensorDataset(torch.tensor(target_out[0]).float(), torch.tensor(target_out[1]).long())\n",
    "\n",
    "shadow_train_loader = torch.utils.data.DataLoader(shadow_train_dataset, batch_size=batch_size)    \n",
    "shadow_out_loader = torch.utils.data.DataLoader(shadow_out_dataset, batch_size=batch_size)\n",
    "\n",
    "target_train_loader = torch.utils.data.DataLoader(target_train_dataset, batch_size=batch_size)\n",
    "target_out_loader = torch.utils.data.DataLoader(target_out_dataset, batch_size=batch_size)\n",
    "\n",
    "test_dataset = torch.utils.data.TensorDataset(torch.tensor(X_test).float(), torch.tensor(y_test).long())\n",
    "test_loader = torch.utils.data.DataLoader(test_dataset, batch_size=batch_size, shuffle=True)"
   ]
  },
  {
   "cell_type": "code",
   "execution_count": 7,
   "metadata": {},
   "outputs": [
    {
     "data": {
      "text/plain": [
       "array([5, 7, 0, ..., 3, 9, 8])"
      ]
     },
     "execution_count": 7,
     "metadata": {},
     "output_type": "execute_result"
    }
   ],
   "source": [
    "shadow_train[1]"
   ]
  },
  {
   "cell_type": "code",
   "execution_count": 8,
   "metadata": {},
   "outputs": [],
   "source": [
    "target_loss = nn.CrossEntropyLoss()\n",
    "target_optim = optim.Adam(target_net.parameters(), lr=lr)\n",
    "\n",
    "shadow_loss = nn.CrossEntropyLoss()\n",
    "shadow_optim = optim.Adam(shadow_net.parameters(), lr=lr)\n",
    "\n",
    "attack_net = mlleaks_mlp(n_in=k).to(device)\n",
    "attack_loss = nn.BCEWithLogitsLoss()\n",
    "attack_optim = optim.Adam(attack_net.parameters(), lr=lr)"
   ]
  },
  {
   "cell_type": "code",
   "execution_count": 9,
   "metadata": {},
   "outputs": [
    {
     "name": "stdout",
     "output_type": "stream",
     "text": [
      "[0/3]\n",
      "Training:\n",
      "Accuracy of airplane: 0.0\n",
      "Accuracy of automobile: 0.0\n",
      "Accuracy of bird: 0.0\n",
      "Accuracy of cat: 0.0\n",
      "Accuracy of deer: 100.0\n",
      "Accuracy of dog: 0.0\n",
      "Accuracy of frog: 0.0\n",
      "Accuracy of horse: 0.0\n",
      "Accuracy of ship: 0.0\n",
      "Accuracy of truck: 0.0\n",
      "Accuracy: 10.82\n",
      "Test:\n",
      "Accuracy of airplane: 0.0\n",
      "Accuracy of automobile: 0.0\n",
      "Accuracy of bird: 0.0\n",
      "Accuracy of cat: 0.0\n",
      "Accuracy of deer: 100.0\n",
      "Accuracy of dog: 0.0\n",
      "Accuracy of frog: 0.0\n",
      "Accuracy of horse: 0.0\n",
      "Accuracy of ship: 0.0\n",
      "Accuracy of truck: 0.0\n",
      "Accuracy: 10.0\n",
      "[1/3]\n",
      "Training:\n",
      "Accuracy of airplane: 0.0\n",
      "Accuracy of automobile: 0.0\n",
      "Accuracy of bird: 0.0\n",
      "Accuracy of cat: 0.0\n",
      "Accuracy of deer: 100.0\n",
      "Accuracy of dog: 0.0\n",
      "Accuracy of frog: 0.0\n",
      "Accuracy of horse: 0.0\n",
      "Accuracy of ship: 0.0\n",
      "Accuracy of truck: 0.0\n",
      "Accuracy: 10.82\n",
      "Test:\n",
      "Accuracy of airplane: 0.0\n",
      "Accuracy of automobile: 0.0\n",
      "Accuracy of bird: 0.0\n",
      "Accuracy of cat: 0.0\n",
      "Accuracy of deer: 100.0\n",
      "Accuracy of dog: 0.0\n",
      "Accuracy of frog: 0.0\n",
      "Accuracy of horse: 0.0\n",
      "Accuracy of ship: 0.0\n",
      "Accuracy of truck: 0.0\n",
      "Accuracy: 10.0\n",
      "[2/3]\n",
      "Training:\n",
      "Accuracy of airplane: 0.0\n",
      "Accuracy of automobile: 0.0\n",
      "Accuracy of bird: 0.0\n",
      "Accuracy of cat: 0.0\n",
      "Accuracy of deer: 100.0\n",
      "Accuracy of dog: 0.0\n",
      "Accuracy of frog: 0.0\n",
      "Accuracy of horse: 0.0\n",
      "Accuracy of ship: 0.0\n",
      "Accuracy of truck: 0.0\n",
      "Accuracy: 10.82\n",
      "Test:\n",
      "Accuracy of airplane: 0.0\n",
      "Accuracy of automobile: 0.0\n",
      "Accuracy of bird: 0.0\n",
      "Accuracy of cat: 0.0\n",
      "Accuracy of deer: 100.0\n",
      "Accuracy of dog: 0.0\n",
      "Accuracy of frog: 0.0\n",
      "Accuracy of horse: 0.0\n",
      "Accuracy of ship: 0.0\n",
      "Accuracy of truck: 0.0\n",
      "Accuracy: 10.0\n"
     ]
    },
    {
     "data": {
      "text/plain": [
       "(10.82, 10.0)"
      ]
     },
     "execution_count": 9,
     "metadata": {},
     "output_type": "execute_result"
    }
   ],
   "source": [
    "train(shadow_net, shadow_train_loader, test_loader, shadow_optim, shadow_loss, n_epochs, classes=classes)"
   ]
  },
  {
   "cell_type": "code",
   "execution_count": 10,
   "metadata": {},
   "outputs": [],
   "source": [
    "train_attacker(attack_net, shadow_net, shadow_train_loader, shadow_out_loader, attack_optim, attack_loss, n_epochs=10, k=k)"
   ]
  },
  {
   "cell_type": "code",
   "execution_count": 11,
   "metadata": {},
   "outputs": [
    {
     "name": "stdout",
     "output_type": "stream",
     "text": [
      "[0/3]\n",
      "Training:\n",
      "Accuracy of airplane: 0.0\n",
      "Accuracy of automobile: 0.0\n",
      "Accuracy of bird: 0.0\n",
      "Accuracy of cat: 0.0\n",
      "Accuracy of deer: 0.0\n",
      "Accuracy of dog: 0.0\n",
      "Accuracy of frog: 0.0\n",
      "Accuracy of horse: 100.0\n",
      "Accuracy of ship: 0.0\n",
      "Accuracy of truck: 0.0\n",
      "Accuracy: 10.0\n",
      "Test:\n",
      "Accuracy of airplane: 0.0\n",
      "Accuracy of automobile: 0.0\n",
      "Accuracy of bird: 0.0\n",
      "Accuracy of cat: 0.1\n",
      "Accuracy of deer: 0.0\n",
      "Accuracy of dog: 0.0\n",
      "Accuracy of frog: 0.0\n",
      "Accuracy of horse: 99.9\n",
      "Accuracy of ship: 0.0\n",
      "Accuracy of truck: 0.0\n",
      "Accuracy: 10.0\n",
      "[1/3]\n",
      "Training:\n",
      "Accuracy of airplane: 0.0\n",
      "Accuracy of automobile: 0.0\n",
      "Accuracy of bird: 0.0\n",
      "Accuracy of cat: 0.0\n",
      "Accuracy of deer: 0.0\n",
      "Accuracy of dog: 0.0\n",
      "Accuracy of frog: 0.0\n",
      "Accuracy of horse: 0.0\n",
      "Accuracy of ship: 100.0\n",
      "Accuracy of truck: 0.0\n",
      "Accuracy: 10.48\n",
      "Test:\n",
      "Accuracy of airplane: 0.0\n",
      "Accuracy of automobile: 0.0\n",
      "Accuracy of bird: 0.0\n",
      "Accuracy of cat: 0.0\n",
      "Accuracy of deer: 0.0\n",
      "Accuracy of dog: 0.0\n",
      "Accuracy of frog: 0.0\n",
      "Accuracy of horse: 0.0\n",
      "Accuracy of ship: 100.0\n",
      "Accuracy of truck: 0.0\n",
      "Accuracy: 10.0\n",
      "[2/3]\n",
      "Training:\n",
      "Accuracy of airplane: 0.0\n",
      "Accuracy of automobile: 0.0\n",
      "Accuracy of bird: 0.0\n",
      "Accuracy of cat: 0.0\n",
      "Accuracy of deer: 0.0\n",
      "Accuracy of dog: 0.0\n",
      "Accuracy of frog: 0.0\n",
      "Accuracy of horse: 0.0\n",
      "Accuracy of ship: 100.0\n",
      "Accuracy of truck: 0.0\n",
      "Accuracy: 10.48\n",
      "Test:\n",
      "Accuracy of airplane: 0.0\n",
      "Accuracy of automobile: 0.0\n",
      "Accuracy of bird: 0.0\n",
      "Accuracy of cat: 0.0\n",
      "Accuracy of deer: 0.0\n",
      "Accuracy of dog: 0.0\n",
      "Accuracy of frog: 0.0\n",
      "Accuracy of horse: 0.0\n",
      "Accuracy of ship: 100.0\n",
      "Accuracy of truck: 0.0\n",
      "Accuracy: 10.0\n"
     ]
    },
    {
     "data": {
      "text/plain": [
       "(10.48, 10.0)"
      ]
     },
     "execution_count": 11,
     "metadata": {},
     "output_type": "execute_result"
    }
   ],
   "source": [
    "train(target_net, target_train_loader, test_loader, target_optim, target_loss, n_epochs, classes=classes)"
   ]
  },
  {
   "cell_type": "code",
   "execution_count": 12,
   "metadata": {},
   "outputs": [
    {
     "name": "stdout",
     "output_type": "stream",
     "text": [
      "\n",
      "Performance on training set: \n",
      "Accuracy: 10.48\n",
      "\n",
      "Performance on test set: \n",
      "Accuracy: 10.0\n"
     ]
    }
   ],
   "source": [
    "eval_attack_model(attack_net, target_net, target_train_loader, target_out_loader, k=k)\n",
    "\n",
    "print(\"\\nPerformance on training set: \")\n",
    "train_accuracy = eval_target_model(target_net, target_train_loader, classes=None)\n",
    "\n",
    "print(\"\\nPerformance on test set: \")\n",
    "test_accuracy = eval_target_model(target_net, test_loader, classes=None)"
   ]
  },
  {
   "cell_type": "code",
   "execution_count": null,
   "metadata": {},
   "outputs": [],
   "source": []
  }
 ],
 "metadata": {
  "kernelspec": {
   "display_name": "BlockFed",
   "language": "python",
   "name": "python3"
  },
  "language_info": {
   "codemirror_mode": {
    "name": "ipython",
    "version": 3
   },
   "file_extension": ".py",
   "mimetype": "text/x-python",
   "name": "python",
   "nbconvert_exporter": "python",
   "pygments_lexer": "ipython3",
   "version": "3.10.13"
  }
 },
 "nbformat": 4,
 "nbformat_minor": 2
}

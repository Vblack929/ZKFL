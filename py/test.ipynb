{
 "cells": [
  {
   "cell_type": "code",
   "execution_count": 1,
   "metadata": {},
   "outputs": [],
   "source": [
    "import torch\n",
    "import torch.nn as nn\n",
    "\n",
    "from federated_learning.model import LeNet_Small_Quant\n",
    "from federated_learning.client import Worker\n",
    "import federated_learning\n",
    "\n",
    "import numpy as np\n",
    "\n",
    "import warnings\n",
    "warnings.simplefilter(\"ignore\")"
   ]
  },
  {
   "cell_type": "code",
   "execution_count": 2,
   "metadata": {},
   "outputs": [
    {
     "name": "stdout",
     "output_type": "stream",
     "text": [
      "Files already downloaded and verified\n",
      "Files already downloaded and verified\n"
     ]
    }
   ],
   "source": [
    "(X_train, y_train), (X_test, y_test) = federated_learning.load_cifar10(num_users=2, n_class=10, n_samples=100, rate_unbalance=1.0)"
   ]
  },
  {
   "cell_type": "code",
   "execution_count": 3,
   "metadata": {},
   "outputs": [],
   "source": [
    "worker1 = Worker(index=1, X_train=X_train[0], y_train=y_train[0], X_test=X_test[:1000], y_test=y_test[:1000], model=LeNet_Small_Quant())\n",
    "worker2 = Worker(index=2, X_train=X_train[1], y_train=y_train[1], X_test=X_test[:1000], y_test=y_test[:1000], model=LeNet_Small_Quant())"
   ]
  },
  {
   "cell_type": "code",
   "execution_count": 4,
   "metadata": {},
   "outputs": [
    {
     "name": "stdout",
     "output_type": "stream",
     "text": [
      "Worker 1 local epoch 10: loss 1.8428709134459496\n",
      "Worker 1 local epoch 20: loss 1.7087349891662598\n",
      "Worker 1 local epoch 30: loss 1.8336205780506134\n"
     ]
    },
    {
     "data": {
      "text/plain": [
       "(4.518858656287193, 0.24960937537252903)"
      ]
     },
     "execution_count": 4,
     "metadata": {},
     "output_type": "execute_result"
    }
   ],
   "source": [
    "worker1.model.set_optimizer(torch.optim.Adam(worker1.model.parameters(), lr=0.001))\n",
    "worker1.train_step_dp(model=worker1.model, K=30, B=64, eps=1.0, delta=1.0)\n",
    "worker1.evaluate(worker1.model, worker1.X_test, worker1.y_test, B=64)"
   ]
  },
  {
   "cell_type": "code",
   "execution_count": 5,
   "metadata": {},
   "outputs": [
    {
     "name": "stdout",
     "output_type": "stream",
     "text": [
      "Worker 2 local epoch 10: loss 1.7892474830150604\n",
      "Worker 2 local epoch 20: loss 1.8785505145788193\n",
      "Worker 2 local epoch 30: loss 1.969981499016285\n"
     ]
    },
    {
     "data": {
      "text/plain": [
       "(8.07858082652092, 0.16835937555879354)"
      ]
     },
     "execution_count": 5,
     "metadata": {},
     "output_type": "execute_result"
    }
   ],
   "source": [
    "worker2.model.set_optimizer(torch.optim.Adam(worker2.model.parameters(), lr=0.001))\n",
    "worker2.train_step_dp(model=worker2.model, K=30, B=64, eps=1.0, delta=1.0)\n",
    "worker2.evaluate(worker2.model, worker2.X_test, worker2.y_test, B=64)"
   ]
  },
  {
   "cell_type": "code",
   "execution_count": 6,
   "metadata": {},
   "outputs": [],
   "source": [
    "global_model = LeNet_Small_Quant()\n",
    "agg = federated_learning.FedAvg(global_model=global_model, beta=0.0, lr=0.1)\n",
    "local_params = [w.model.get_params() for w in [worker1, worker2]]\n",
    "global_model = agg.aggregate(local_params)"
   ]
  },
  {
   "cell_type": "code",
   "execution_count": 8,
   "metadata": {},
   "outputs": [
    {
     "data": {
      "text/plain": [
       "(2.5865061581134796, 0.10234375018626451)"
      ]
     },
     "execution_count": 8,
     "metadata": {},
     "output_type": "execute_result"
    }
   ],
   "source": [
    "worker1.evaluate(global_model, worker1.X_test, worker1.y_test, B=64)"
   ]
  },
  {
   "cell_type": "code",
   "execution_count": null,
   "metadata": {},
   "outputs": [],
   "source": []
  }
 ],
 "metadata": {
  "kernelspec": {
   "display_name": "BlockFed",
   "language": "python",
   "name": "python3"
  },
  "language_info": {
   "codemirror_mode": {
    "name": "ipython",
    "version": 3
   },
   "file_extension": ".py",
   "mimetype": "text/x-python",
   "name": "python",
   "nbconvert_exporter": "python",
   "pygments_lexer": "ipython3",
   "version": "3.10.13"
  }
 },
 "nbformat": 4,
 "nbformat_minor": 2
}

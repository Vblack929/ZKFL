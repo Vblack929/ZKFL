{
 "cells": [
  {
   "cell_type": "code",
   "execution_count": 1,
   "metadata": {},
   "outputs": [],
   "source": [
    "import torch\n",
    "import torch.nn as nn\n",
    "\n",
    "from federated_learning.model import LeNet_Small_Quant\n",
    "from federated_learning.client import Worker\n",
    "import federated_learning\n",
    "from network import ZKFLChain\n",
    "\n",
    "import numpy as np\n",
    "\n",
    "import warnings\n",
    "warnings.simplefilter(\"ignore\")"
   ]
  },
  {
   "cell_type": "code",
   "execution_count": 2,
   "metadata": {},
   "outputs": [
    {
     "name": "stdout",
     "output_type": "stream",
     "text": [
      "Files already downloaded and verified\n",
      "Files already downloaded and verified\n"
     ]
    }
   ],
   "source": [
    "net = ZKFLChain(num_clients=3, global_rounds=3, local_rounds=3, frac_malicous=0.0, dataset='cifar10', model='lenet')"
   ]
  },
  {
   "cell_type": "code",
   "execution_count": 3,
   "metadata": {},
   "outputs": [],
   "source": [
    "workers = []\n",
    "for i in range(net.num_clients):\n",
    "    worker = Worker(index=i+1,\n",
    "                        X_train=net.X_train[i],\n",
    "                        y_train=net.y_train[i],\n",
    "                        X_test=None,\n",
    "                        y_test=None,\n",
    "                        model=LeNet_Small_Quant(),\n",
    "                        malicious=False)\n",
    "    workers.append(worker)"
   ]
  },
  {
   "cell_type": "code",
   "execution_count": 4,
   "metadata": {},
   "outputs": [],
   "source": [
    "local_params = []\n",
    "for worker in workers:\n",
    "    worker.set_optimizer(optimizer=torch.optim.Adam(worker.model.parameters(), lr=0.001))   \n",
    "    worker.train_step_dp(model=worker.model, K=3, B=128, norm=1.2, eps=50.0, delta=1e-5)\n",
    "    local_params.append(worker.get_params())    "
   ]
  },
  {
   "cell_type": "code",
   "execution_count": 5,
   "metadata": {},
   "outputs": [
    {
     "name": "stdout",
     "output_type": "stream",
     "text": [
      "Worker 1 accuracy: 0.3169501582278481\n",
      "Worker 2 accuracy: 0.26582278481012656\n",
      "Worker 3 accuracy: 0.234375\n"
     ]
    }
   ],
   "source": [
    "X_test, y_test = net.X_test, net.y_test\n",
    "for w in workers:\n",
    "    _, acc = w.evaluate(w.model, x=X_test, y=y_test, B=128)\n",
    "    print(f\"Worker {w.index} accuracy: {acc}\")"
   ]
  },
  {
   "cell_type": "code",
   "execution_count": 8,
   "metadata": {},
   "outputs": [],
   "source": [
    "workers2 = []\n",
    "local_params2 = []\n",
    "for i in range(net.num_clients):\n",
    "    worker = Worker(index=i+1,\n",
    "                        X_train=net.X_train[i],\n",
    "                        y_train=net.y_train[i],\n",
    "                        X_test=None,\n",
    "                        y_test=None,\n",
    "                        model=LeNet_Small_Quant(),\n",
    "                        malicious=False)\n",
    "    workers2.append(worker)\n",
    "for w in workers2:\n",
    "    w.set_optimizer(optimizer=torch.optim.Adam(w.model.parameters(), lr=0.001))\n",
    "    w.train_step_dp(model=w.model, K=5, B=128, eps=1.2, delta=1.0)\n",
    "    local_params2.append(w.get_params())"
   ]
  },
  {
   "cell_type": "code",
   "execution_count": 9,
   "metadata": {},
   "outputs": [
    {
     "name": "stdout",
     "output_type": "stream",
     "text": [
      "Worker 1 accuracy: 0.19284018987341772\n",
      "Worker 2 accuracy: 0.25860363924050633\n",
      "Worker 3 accuracy: 0.23833069620253164\n"
     ]
    }
   ],
   "source": [
    "for w in workers2:\n",
    "    _, acc = w.evaluate(w.model, x=X_test, y=y_test, B=128)\n",
    "    print(f\"Worker {w.index} accuracy: {acc}\")"
   ]
  },
  {
   "cell_type": "code",
   "execution_count": null,
   "metadata": {},
   "outputs": [],
   "source": []
  }
 ],
 "metadata": {
  "kernelspec": {
   "display_name": "BlockFed",
   "language": "python",
   "name": "python3"
  },
  "language_info": {
   "codemirror_mode": {
    "name": "ipython",
    "version": 3
   },
   "file_extension": ".py",
   "mimetype": "text/x-python",
   "name": "python",
   "nbconvert_exporter": "python",
   "pygments_lexer": "ipython3",
   "version": "3.10.13"
  }
 },
 "nbformat": 4,
 "nbformat_minor": 2
}

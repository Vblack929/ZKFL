{
 "cells": [
  {
   "cell_type": "code",
   "execution_count": 2,
   "metadata": {},
   "outputs": [],
   "source": [
    "from ipywidgets import widgets, Layout\n",
    "from IPython.display import display, Markdown, HTML\n",
    "import matplotlib.pyplot as plt\n",
    "import numpy as np\n",
    "from scipy.integrate import trapz \n",
    "import math\n",
    "from scipy.stats import norm\n",
    "import federated_learning\n",
    "from federated_learning.model import LeNet_Small_Quant"
   ]
  },
  {
   "cell_type": "code",
   "execution_count": 4,
   "metadata": {},
   "outputs": [],
   "source": [
    "def plot_x(mu=1):\n",
    "    w = np.linspace(0, 1, 100)\n",
    "    plt.ylabel(\"TPR\")\n",
    "    plt.xlabel(\"FPR\")\n",
    "    plt.xlim(0, 1)\n",
    "    plt.ylim(0, 1)\n",
    "  \n",
    "    plt.grid(color='0.6')\n",
    "    plt.plot(w,analytical_tpr(w,mu), c=\"tab:green\")\n",
    "    plt.plot([0,1], [0,1], \"--k\", label=\"random guessing\")\n",
    "    plt.title(\"Trade-off curve\")\n",
    "\n",
    "def analytical_tpr(fpr, mu):\n",
    "    return 1-norm.cdf(norm.ppf(1-fpr)-mu)\n",
    "\n",
    "def calc_privacy_lvl(C, tau, T, n, N, d):\n",
    "    K = d\n",
    "    n_eff = n + (n*n*tau*tau)/(C*C)\n",
    "    mu_step = (d+(2*n-1)*K)/(n_eff*math.sqrt(2*d + 4*((n*n)/n_eff)*K))\n",
    "    c = (n*math.sqrt(T))/N\n",
    "    mu_tot =  c*fn_dong(mu_step)\n",
    "    return mu_tot\n",
    "\n",
    "def fn_dong(mus):\n",
    "    return math.sqrt(2)*math.sqrt(math.exp(mus*mus)*norm.cdf(1.5*mus)+3*norm.cdf(-0.5*mus)-2)\n",
    "def floater(C):\n",
    "    try:\n",
    "        C = math.inf if C == 'inf' else float(C)\n",
    "    except ValueError:\n",
    "        C = 1.0\n",
    "    return C\n"
   ]
  },
  {
   "cell_type": "code",
   "execution_count": 5,
   "metadata": {},
   "outputs": [],
   "source": [
    "def wrapper(C, tau, T, n, N, d):\n",
    "    C = float(C)\n",
    "    result = calc_privacy_lvl(C, tau, T, n, N, d)\n",
    "    fpr_values = np.linspace(0, 1, 100)\n",
    "    tpr_values = [analytical_tpr(fpr, result) for fpr in fpr_values]\n",
    "    au_roc = trapz(tpr_values, fpr_values)\n",
    "    tpr_at_001 = tpr_values[np.argmin(np.abs(fpr_values - 0.01))]\n",
    "    tpr_at_005 = tpr_values[np.argmin(np.abs(fpr_values - 0.05))]\n",
    "    ## Analycical acc = CDF(0.5*mu)\n",
    "    acc = norm.cdf(0.5*result)\n",
    "    print(f\"GMIP Privacy Level (mu): {result}\")\n",
    "    print(f\"AU-ROC: {au_roc}\")\n",
    "    print(f\"TPR@0.01: {tpr_at_001}\")\n",
    "    print(f\"TPR@0.05: {tpr_at_005}\")\n",
    "    print('Accuracy:', np.max(acc))\n",
    "    \n",
    "    fig, ax = plt.subplots()\n",
    "    ax.plot(fpr_values, tpr_values, \"tab:green\", label='TPR vs. FPR')\n",
    "    ax.fill_between(fpr_values, tpr_values, color=\"tab:green\", step='mid', alpha=0.4)\n",
    "    ax.plot([0,1], [0,1], \"--k\", label=\"random guessing\")\n",
    "    ax.set_xlabel('False Positive Rate')\n",
    "    ax.set_ylabel('True Positive Rate')\n",
    "    ax.set_title('Trade-off Curve')\n",
    "    ax.legend()\n",
    "    fig.set_size_inches(3,3)\n",
    "    plt.show()\n",
    "    \n",
    "    "
   ]
  },
  {
   "cell_type": "code",
   "execution_count": 3,
   "metadata": {},
   "outputs": [
    {
     "name": "stdout",
     "output_type": "stream",
     "text": [
      "Total number of parameters: 74824\n"
     ]
    }
   ],
   "source": [
    "model = LeNet_Small_Quant()\n",
    "total_params = sum(p.numel() for p in model.parameters())\n",
    "print(f'Total number of parameters: {total_params}')"
   ]
  },
  {
   "cell_type": "code",
   "execution_count": null,
   "metadata": {},
   "outputs": [],
   "source": []
  }
 ],
 "metadata": {
  "kernelspec": {
   "display_name": "BlockFed",
   "language": "python",
   "name": "python3"
  },
  "language_info": {
   "codemirror_mode": {
    "name": "ipython",
    "version": 3
   },
   "file_extension": ".py",
   "mimetype": "text/x-python",
   "name": "python",
   "nbconvert_exporter": "python",
   "pygments_lexer": "ipython3",
   "version": "3.10.13"
  }
 },
 "nbformat": 4,
 "nbformat_minor": 2
}

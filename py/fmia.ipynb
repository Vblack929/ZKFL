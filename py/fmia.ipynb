{
 "cells": [
  {
   "cell_type": "code",
   "execution_count": 40,
   "metadata": {},
   "outputs": [],
   "source": [
    "from ipywidgets import widgets, Layout\n",
    "from IPython.display import display, Markdown, HTML\n",
    "import matplotlib.pyplot as plt\n",
    "import numpy as np\n",
    "from scipy.integrate import trapz \n",
    "import math\n",
    "from scipy.stats import norm\n",
    "import federated_learning\n",
    "from federated_learning.model import LeNet_Small_Quant"
   ]
  },
  {
   "cell_type": "code",
   "execution_count": 50,
   "metadata": {},
   "outputs": [
    {
     "name": "stdout",
     "output_type": "stream",
     "text": [
      "Files already downloaded and verified\n",
      "Files already downloaded and verified\n"
     ]
    }
   ],
   "source": [
    "from opacus import PrivacyEngine\n",
    "import torch\n",
    "\n",
    "privacy_engine = PrivacyEngine()\n",
    "\n",
    "privacy_engine = PrivacyEngine()\n",
    "\n",
    "model = LeNet_Small_Quant()\n",
    "K = 5\n",
    "eps = 50\n",
    "delta = 1e-5\n",
    "norm = 1.2\n",
    "\n",
    "(X_train, y_train), (X_test, y_test) = federated_learning.load_cifar10(num_users=1, n_class=10, n_samples=100, rate_unbalance=1.0)\n",
    "X_train, y_train = X_train[0], y_train[0]\n",
    "train_loader = torch.utils.data.DataLoader(\n",
    "    torch.utils.data.TensorDataset(torch.tensor(X_train), torch.tensor(y_train)),\n",
    "    batch_size=32,\n",
    "    shuffle=True,\n",
    ")\n",
    "\n",
    "optimizer = torch.optim.SGD(model.parameters(), lr=0.1)\n",
    "        \n",
    "model, optim, train_loader = privacy_engine.make_private(\n",
    "    module=model,\n",
    "    optimizer=optimizer,\n",
    "    data_loader=train_loader,\n",
    "    max_grad_norm=norm,\n",
    "    noise_multiplier=1.2,\n",
    ")"
   ]
  },
  {
   "cell_type": "code",
   "execution_count": 51,
   "metadata": {},
   "outputs": [
    {
     "data": {
      "text/plain": [
       "1.2"
      ]
     },
     "execution_count": 51,
     "metadata": {},
     "output_type": "execute_result"
    }
   ],
   "source": [
    "optim.noise_multiplier"
   ]
  },
  {
   "cell_type": "code",
   "execution_count": 35,
   "metadata": {},
   "outputs": [],
   "source": [
    "def plot_x(mu=1):\n",
    "    w = np.linspace(0, 1, 100)\n",
    "    plt.ylabel(\"TPR\")\n",
    "    plt.xlabel(\"FPR\")\n",
    "    plt.xlim(0, 1)\n",
    "    plt.ylim(0, 1)\n",
    "  \n",
    "    plt.grid(color='0.6')\n",
    "    plt.plot(w,analytical_tpr(w,mu), c=\"tab:green\")\n",
    "    plt.plot([0,1], [0,1], \"--k\", label=\"random guessing\")\n",
    "    plt.title(\"Trade-off curve\")\n",
    "\n",
    "def analytical_tpr(fpr, mu):\n",
    "    return 1-norm.cdf(norm.ppf(1-fpr)-mu)\n",
    "\n",
    "# def calc_privacy_lvl(C, tau, T, n, N, d):\n",
    "#     K = d\n",
    "#     n_eff = n + (n*n*tau*tau)/(C*C)\n",
    "#     mu_step = (d+(2*n-1)*K)/(n_eff*math.sqrt(2*d + 4*((n*n)/n_eff)*K))\n",
    "#     c = (n*math.sqrt(T))/N\n",
    "#     mu_tot =  c*fn_dong(mu_step)\n",
    "#     return mu_tot\n",
    "\n",
    "def calc_privacy_lvl(C, tau, T, n, N, d, K):\n",
    "    #print(C, tau, T, n, N, d, K)\n",
    "    n_eff = n + (n*n*tau*tau)/(C*C)\n",
    "    #print(\"neff=\", n_eff)\n",
    "    #mu_step = (d+(2*n_eff-1)*K)/(n_eff*math.sqrt(2*d + 4*n_eff*K))\n",
    "    mu_step = (d+(2*n-1)*K)/(n_eff*math.sqrt(2*d + 4*((n*n)/n_eff)*K))\n",
    "    #print(\"mu_step=\", mu_step)\n",
    "    c = (n*math.sqrt(T))/N\n",
    "    mu_tot =  c*fn_dong(mu_step)\n",
    "    return mu_tot\n",
    "\n",
    "def fn_dong(mus):\n",
    "    return math.sqrt(2)*math.sqrt(math.exp(mus*mus)*norm.cdf(1.5*mus)+3*norm.cdf(-0.5*mus)-2)\n",
    "def floater(C):\n",
    "    try:\n",
    "        C = math.inf if C == 'inf' else float(C)\n",
    "    except ValueError:\n",
    "        C = 1.0\n",
    "    return C\n"
   ]
  },
  {
   "cell_type": "code",
   "execution_count": 36,
   "metadata": {},
   "outputs": [],
   "source": [
    "def wrapper(C, tau, T, n, N, d):\n",
    "    C = float(C)\n",
    "    result = calc_privacy_lvl(C, tau, T, n, N, d)\n",
    "    fpr_values = np.linspace(0, 1, 100)\n",
    "    tpr_values = [analytical_tpr(fpr, result) for fpr in fpr_values]\n",
    "    au_roc = trapz(tpr_values, fpr_values)\n",
    "    tpr_at_001 = tpr_values[np.argmin(np.abs(fpr_values - 0.01))]\n",
    "    tpr_at_005 = tpr_values[np.argmin(np.abs(fpr_values - 0.05))]\n",
    "    ## Analycical acc = CDF(0.5*mu)\n",
    "    acc = norm.cdf(0.5*result)\n",
    "    print(f\"GMIP Privacy Level (mu): {result}\")\n",
    "    print(f\"AU-ROC: {au_roc}\")\n",
    "    print(f\"TPR@0.01: {tpr_at_001}\")\n",
    "    print(f\"TPR@0.05: {tpr_at_005}\")\n",
    "    print('Accuracy:', np.max(acc))\n",
    "    \n",
    "    fig, ax = plt.subplots()\n",
    "    ax.plot(fpr_values, tpr_values, \"tab:green\", label='TPR vs. FPR')\n",
    "    ax.fill_between(fpr_values, tpr_values, color=\"tab:green\", step='mid', alpha=0.4)\n",
    "    ax.plot([0,1], [0,1], \"--k\", label=\"random guessing\")\n",
    "    ax.set_xlabel('False Positive Rate')\n",
    "    ax.set_ylabel('True Positive Rate')\n",
    "    ax.set_title('Trade-off Curve')\n",
    "    ax.legend()\n",
    "    fig.set_size_inches(3,3)\n",
    "    plt.show()\n",
    "    \n",
    "    "
   ]
  },
  {
   "cell_type": "code",
   "execution_count": 8,
   "metadata": {},
   "outputs": [
    {
     "name": "stdout",
     "output_type": "stream",
     "text": [
      "Total number of parameters: 74824\n"
     ]
    }
   ],
   "source": [
    "model = LeNet_Small_Quant()\n",
    "total_params = sum(p.numel() for p in model.parameters())\n",
    "print(f'Total number of parameters: {total_params}')"
   ]
  },
  {
   "cell_type": "code",
   "execution_count": 33,
   "metadata": {},
   "outputs": [
    {
     "name": "stdout",
     "output_type": "stream",
     "text": [
      "GMIP Privacy Level (mu): 0.00019945841355096803\n",
      "AU-ROC: 0.500056255028675\n",
      "TPR@0.01: 0.010106374168946664\n",
      "TPR@0.05: 0.050525790618981326\n",
      "Accuracy: 0.5000397861971076\n"
     ]
    },
    {
     "name": "stderr",
     "output_type": "stream",
     "text": [
      "/var/folders/k9/sq1przdn1cv5sh7ty2xzg67w0000gn/T/ipykernel_89544/3418556529.py:6: DeprecationWarning: 'scipy.integrate.trapz' is deprecated in favour of 'scipy.integrate.trapezoid' and will be removed in SciPy 1.14.0\n",
      "  au_roc = trapz(tpr_values, fpr_values)\n"
     ]
    },
    {
     "data": {
      "image/png": "[encoded data removed]",
      "text/plain": [
       "<Figure size 300x300 with 1 Axes>"
      ]
     },
     "metadata": {},
     "output_type": "display_data"
    }
   ],
   "source": [
    "wrapper(C=1.2,\n",
    "        tau=50,\n",
    "        T=5,\n",
    "        n=64,\n",
    "        N=2500,\n",
    "        d=74824)"
   ]
  },
  {
   "cell_type": "code",
   "execution_count": 39,
   "metadata": {},
   "outputs": [
    {
     "name": "stdout",
     "output_type": "stream",
     "text": [
      "Privacy guarantee without noise on dataset CIFAR10: mu= 12.489026235895498\n",
      "Privacy guarantee without noise on dataset purchase: mu= 1.4470370595554225\n",
      "Privacy guarantee without noise on dataset adult: mu= 1.1921696789742704\n"
     ]
    }
   ],
   "source": [
    "params = {\n",
    "    \"CIFAR10\": dict(C=500.0, N=2500, T=5, batch_size=64, K=650, d=650, epochs=5), # 10 epoch with 120 batchs and batch size 400\n",
    "    \"purchase\": dict(C=2000.0, N=69*795, T=3*69, batch_size=795, K=2580, d=2580, epochs=3), # We have 69 batches with batch size 795 each in one epoch, train 3 epochs\n",
    "    \"adult\": dict(C=800.0, N=43000, T=43*20, batch_size=1000, K=1026, d=1026, epochs=20) # 20 epochs with 43 batches and batch size 1000\n",
    "}\n",
    "for key, val_dict in params.items():\n",
    "    print(f\"Privacy guarantee without noise on dataset {key}: mu=\", calc_privacy_lvl(val_dict[\"C\"], 0.0, val_dict[\"T\"], val_dict[\"batch_size\"], val_dict[\"N\"], val_dict[\"d\"], val_dict[\"K\"]))"
   ]
  },
  {
   "cell_type": "code",
   "execution_count": null,
   "metadata": {},
   "outputs": [],
   "source": []
  }
 ],
 "metadata": {
  "kernelspec": {
   "display_name": "BlockFed",
   "language": "python",
   "name": "python3"
  },
  "language_info": {
   "codemirror_mode": {
    "name": "ipython",
    "version": 3
   },
   "file_extension": ".py",
   "mimetype": "text/x-python",
   "name": "python",
   "nbconvert_exporter": "python",
   "pygments_lexer": "ipython3",
   "version": "3.10.13"
  }
 },
 "nbformat": 4,
 "nbformat_minor": 2
}
